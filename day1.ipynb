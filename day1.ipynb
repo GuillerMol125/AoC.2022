{
 "cells": [
  {
   "cell_type": "code",
   "execution_count": 15,
   "metadata": {},
   "outputs": [],
   "source": [
    "import os\n",
    "import sys\n",
    "import numpy as np\n",
    "\n",
    "inputfilepath = 'C:\\EMOLGUI\\A_O_C\\Day1.csv'"
   ]
  },
  {
   "attachments": {},
   "cell_type": "markdown",
   "metadata": {},
   "source": [
    "### READ THE DATA INTO A LIST"
   ]
  },
  {
   "cell_type": "code",
   "execution_count": 9,
   "metadata": {},
   "outputs": [],
   "source": [
    "with open(inputfilepath,'r') as f:\n",
    "    calorie_count_list = []\n",
    "    calorie_count = 0\n",
    "    for line in f:\n",
    "        calorie = line.rstrip()\n",
    "        if calorie == '':\n",
    "            calorie_count_list.append(calorie_count)\n",
    "            calorie_count = 0\n",
    "        else:\n",
    "            calorie_count += int(calorie)\n",
    "if calorie_count > 0:\n",
    "    calorie_count_list.append(calorie_count)\n"
   ]
  },
  {
   "attachments": {},
   "cell_type": "markdown",
   "metadata": {},
   "source": [
    "#### CHECK TOTAL NUMBER OF VALUES IS CORRECT AND THAT THE LAST VALUE IS CORRECT (BY CHECKING IN EXCEL)"
   ]
  },
  {
   "cell_type": "code",
   "execution_count": 12,
   "metadata": {},
   "outputs": [
    {
     "name": "stdout",
     "output_type": "stream",
     "text": [
      "268 59489\n"
     ]
    }
   ],
   "source": [
    "print(len(calorie_count_list),calorie_count_list[-1])"
   ]
  },
  {
   "attachments": {},
   "cell_type": "markdown",
   "metadata": {},
   "source": [
    "#### DAY 1 QUESTION 1: WHAT IS THE HIGHEST VALUE?"
   ]
  },
  {
   "cell_type": "code",
   "execution_count": 19,
   "metadata": {},
   "outputs": [
    {
     "name": "stdout",
     "output_type": "stream",
     "text": [
      "22 70116\n"
     ]
    }
   ],
   "source": [
    "print(np.argmax(calorie_count_list)+1,np.max(calorie_count_list))"
   ]
  },
  {
   "attachments": {},
   "cell_type": "markdown",
   "metadata": {},
   "source": [
    "#### DAY 1 QUESTION 2: WHAT IS THE SUM OF THE 3 HIGHEST VALUES?"
   ]
  },
  {
   "cell_type": "code",
   "execution_count": 30,
   "metadata": {},
   "outputs": [
    {
     "data": {
      "text/plain": [
       "array([ 1192,  4409,  6997,  9009, 10014, 12989, 13565, 13769, 15663,\n",
       "       16032, 16174, 16399, 17143, 17287, 17410, 19606, 22468, 22541,\n",
       "       22583, 22707, 23390, 24044, 26454, 27241, 27906, 29333, 29786,\n",
       "       29868, 30107, 30802, 30858, 31972, 32120, 32186, 33478, 33924,\n",
       "       34225, 34560, 34832, 35275, 35320, 35342, 35349, 35399, 35780,\n",
       "       35803, 35915, 36059, 36101, 36314, 37031, 37113, 37129, 37600,\n",
       "       37769, 37850, 37910, 38204, 38253, 38602, 38731, 38868, 38884,\n",
       "       39274, 39339, 39605, 39919, 39934, 40265, 40436, 40486, 40524,\n",
       "       40700, 41110, 41146, 41226, 41241, 41300, 41438, 41656, 41742,\n",
       "       41845, 41861, 42002, 42048, 42258, 42269, 42519, 42599, 42914,\n",
       "       42929, 42975, 42975, 43041, 43058, 43067, 43075, 43099, 43163,\n",
       "       43375, 43497, 43745, 43784, 43895, 44003, 44312, 44942, 45144,\n",
       "       45270, 45299, 45405, 45503, 45645, 45688, 45985, 46224, 46324,\n",
       "       46412, 46460, 46551, 46694, 46809, 47238, 47279, 47308, 47329,\n",
       "       47352, 47440, 47442, 47653, 47741, 47835, 47854, 47991, 48092,\n",
       "       48210, 48342, 48438, 48581, 48661, 48969, 49051, 49183, 49222,\n",
       "       49352, 49541, 49555, 49667, 49790, 49939, 49994, 50143, 50158,\n",
       "       50181, 50245, 50272, 50293, 50381, 50400, 50430, 50520, 50547,\n",
       "       50596, 50670, 50982, 51063, 51084, 51450, 51609, 51613, 51625,\n",
       "       51675, 51694, 51729, 51733, 51750, 51914, 52021, 52023, 52238,\n",
       "       52251, 52279, 52289, 52444, 52458, 52803, 52915, 52988, 53082,\n",
       "       53182, 53218, 53319, 53321, 53324, 53348, 53517, 53691, 53752,\n",
       "       53754, 53902, 53914, 53955, 54132, 54154, 54184, 54258, 54339,\n",
       "       54827, 54861, 54959, 54978, 55370, 55676, 55682, 56267, 56268,\n",
       "       56347, 56413, 56443, 56445, 56707, 56813, 56939, 57367, 57417,\n",
       "       57455, 57457, 57589, 58050, 58185, 58268, 58271, 58384, 58421,\n",
       "       58521, 58768, 58796, 58988, 59087, 59202, 59489, 59614, 59751,\n",
       "       59854, 60097, 60526, 60541, 60579, 60678, 60730, 61445, 61546,\n",
       "       61743, 61861, 61956, 63013, 63212, 63718, 64230, 64325, 64941,\n",
       "       65622, 65713, 66882, 67516, 67760, 68706, 70116])"
      ]
     },
     "execution_count": 30,
     "metadata": {},
     "output_type": "execute_result"
    }
   ],
   "source": [
    "sorted_calorie_count_list = np.sort(calorie_count_list)\n",
    "sorted_calorie_count_list"
   ]
  },
  {
   "cell_type": "code",
   "execution_count": 31,
   "metadata": {},
   "outputs": [
    {
     "name": "stdout",
     "output_type": "stream",
     "text": [
      "[67760 68706 70116] 206582\n"
     ]
    }
   ],
   "source": [
    "print(sorted_calorie_count_list[-3:],sum(sorted_calorie_count_list[-3:]))"
   ]
  },
  {
   "cell_type": "code",
   "execution_count": null,
   "metadata": {},
   "outputs": [],
   "source": []
  }
 ],
 "metadata": {
  "kernelspec": {
   "display_name": "5gRadioSite",
   "language": "python",
   "name": "python3"
  },
  "language_info": {
   "codemirror_mode": {
    "name": "ipython",
    "version": 3
   },
   "file_extension": ".py",
   "mimetype": "text/x-python",
   "name": "python",
   "nbconvert_exporter": "python",
   "pygments_lexer": "ipython3",
   "version": "3.8.0"
  },
  "orig_nbformat": 4,
  "vscode": {
   "interpreter": {
    "hash": "c7c99722804840f96b01f13338a9f45175f9d2ea7f88566d49860c1f596f9120"
   }
  }
 },
 "nbformat": 4,
 "nbformat_minor": 2
}
