{
 "cells": [
  {
   "cell_type": "code",
   "execution_count": 1,
   "metadata": {},
   "outputs": [],
   "source": [
    "import os\n",
    "import sys\n",
    "import numpy as np\n",
    "\n",
    "inputfilepath = 'C:\\EMOLGUI\\A_O_C\\Day3.txt'"
   ]
  },
  {
   "cell_type": "code",
   "execution_count": 38,
   "metadata": {},
   "outputs": [],
   "source": [
    "with open(inputfilepath,'r') as f:\n",
    "    item_list = []\n",
    "    for line in f:\n",
    "        items = list(line.rstrip())\n",
    "        firstPart = items[0:int(len(items)/2)]\n",
    "        secondPart = items[int(len(items)/2):]\n",
    "        assert(len(firstPart) == len(secondPart))\n",
    "        for char in firstPart:\n",
    "            if char in secondPart:\n",
    "                if ord(char) - ord('a') >= 0:\n",
    "                    prio = ord(char) - ord('a') + 1\n",
    "                else:\n",
    "                    prio = ord(char) - ord('A') + 27\n",
    "                item_list.append([line.rstrip(),''.join(firstPart),''.join(secondPart),char,int(prio)])\n",
    "                break"
   ]
  },
  {
   "cell_type": "code",
   "execution_count": 44,
   "metadata": {},
   "outputs": [],
   "source": [
    "np_item_list = np.array(item_list)\n",
    "prio_list = np_item_list[:,4].astype(int)"
   ]
  },
  {
   "cell_type": "code",
   "execution_count": 46,
   "metadata": {},
   "outputs": [
    {
     "data": {
      "text/plain": [
       "(300, 7863)"
      ]
     },
     "execution_count": 46,
     "metadata": {},
     "output_type": "execute_result"
    }
   ],
   "source": [
    "len(prio_list), np.sum(prio_list)"
   ]
  },
  {
   "attachments": {},
   "cell_type": "markdown",
   "metadata": {},
   "source": [
    "#### QUESTION 2: GET THE COMMON CHAR IN EVERY GROUP OF 3 LINES AND THE SUM OF THEIR VALUES"
   ]
  },
  {
   "cell_type": "code",
   "execution_count": 47,
   "metadata": {},
   "outputs": [],
   "source": [
    "from itertools import islice"
   ]
  },
  {
   "cell_type": "code",
   "execution_count": 59,
   "metadata": {},
   "outputs": [],
   "source": [
    "with open(inputfilepath,'r') as f:\n",
    "    groups = []\n",
    "    count = 0\n",
    "    previous_line = ''\n",
    "    previous_previous_line = ''\n",
    "    for line in f:\n",
    "        this_line = list(line.rstrip())\n",
    "        count += 1\n",
    "        if count % 3 == 0:\n",
    "            for char in this_line:\n",
    "                if char in previous_line and char in previous_previous_line:\n",
    "                    if ord(char) - ord('a') >= 0:\n",
    "                        prio = ord(char) - ord('a') + 1\n",
    "                    else:\n",
    "                        prio = ord(char) - ord('A') + 27\n",
    "                    groups.append([count,char,int(prio)])\n",
    "                    break\n",
    "        previous_previous_line, previous_line = previous_line, this_line\n",
    "       "
   ]
  },
  {
   "cell_type": "code",
   "execution_count": 60,
   "metadata": {},
   "outputs": [
    {
     "data": {
      "text/plain": [
       "100"
      ]
     },
     "execution_count": 60,
     "metadata": {},
     "output_type": "execute_result"
    }
   ],
   "source": [
    "len(groups)"
   ]
  },
  {
   "cell_type": "code",
   "execution_count": 62,
   "metadata": {},
   "outputs": [],
   "source": [
    "np_groups = np.array(groups)\n",
    "prio_list = np_groups[:,2].astype(int)"
   ]
  },
  {
   "cell_type": "code",
   "execution_count": 63,
   "metadata": {},
   "outputs": [
    {
     "data": {
      "text/plain": [
       "(100, 2488)"
      ]
     },
     "execution_count": 63,
     "metadata": {},
     "output_type": "execute_result"
    }
   ],
   "source": [
    "len(prio_list), np.sum(prio_list)"
   ]
  },
  {
   "cell_type": "code",
   "execution_count": null,
   "metadata": {},
   "outputs": [],
   "source": []
  }
 ],
 "metadata": {
  "kernelspec": {
   "display_name": "5gRadioSite",
   "language": "python",
   "name": "python3"
  },
  "language_info": {
   "codemirror_mode": {
    "name": "ipython",
    "version": 3
   },
   "file_extension": ".py",
   "mimetype": "text/x-python",
   "name": "python",
   "nbconvert_exporter": "python",
   "pygments_lexer": "ipython3",
   "version": "3.8.0"
  },
  "orig_nbformat": 4,
  "vscode": {
   "interpreter": {
    "hash": "c7c99722804840f96b01f13338a9f45175f9d2ea7f88566d49860c1f596f9120"
   }
  }
 },
 "nbformat": 4,
 "nbformat_minor": 2
}
