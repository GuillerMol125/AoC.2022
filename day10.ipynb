{
 "cells": [
  {
   "cell_type": "code",
   "execution_count": 1,
   "metadata": {},
   "outputs": [],
   "source": [
    "import os\n",
    "import sys\n",
    "import numpy as np\n",
    "from collections import defaultdict\n",
    "\n",
    "inputfilepath = 'C:\\EMOLGUI\\A_O_C\\Day10.txt'"
   ]
  },
  {
   "cell_type": "code",
   "execution_count": 9,
   "metadata": {},
   "outputs": [],
   "source": [
    "x_value_hist = []\n",
    "x_value = 1\n",
    "with open(inputfilepath,'r') as f:\n",
    "    maxLines = 0\n",
    "    for line in f:\n",
    "        command = line.rstrip().split()\n",
    "        if command[0] == 'noop':\n",
    "            x_value_hist.append(x_value)\n",
    "        elif command[0] == 'addx':\n",
    "            x_value_hist.append(x_value)\n",
    "            x_value_hist.append(x_value)\n",
    "            x_value += int(command[1])\n"
   ]
  },
  {
   "cell_type": "code",
   "execution_count": 25,
   "metadata": {},
   "outputs": [
    {
     "data": {
      "text/plain": [
       "([340, 120, 3900, 2380, 3780, 4840], [17, 2, 39, 17, 21, 22], 15360)"
      ]
     },
     "execution_count": 25,
     "metadata": {},
     "output_type": "execute_result"
    }
   ],
   "source": [
    "signal_strengths = [cycle * x_value_hist[cycle-1] for cycle in range(20,len(x_value_hist),40)]\n",
    "raw_signals = [x_value_hist[cycle-1] for cycle in range(20,len(x_value_hist),40)]\n",
    "\n",
    "signal_strengths, raw_signals, sum(signal_strengths)"
   ]
  },
  {
   "attachments": {},
   "cell_type": "markdown",
   "metadata": {},
   "source": [
    "#### QUESTION 2"
   ]
  },
  {
   "cell_type": "code",
   "execution_count": 29,
   "metadata": {},
   "outputs": [],
   "source": [
    "num_rows = 6\n",
    "num_cols = 40\n",
    "\n",
    "CRT_output = []\n",
    "\n",
    "cycle = 0\n",
    "for row in range(num_rows):\n",
    "    CRT_row = ''\n",
    "    for col in range(num_cols):\n",
    "        if x_value_hist[cycle] - 1 <= col <= x_value_hist[cycle] + 1:\n",
    "            CRT_row = CRT_row + '#'\n",
    "        else:\n",
    "            CRT_row = CRT_row + '.'\n",
    "        cycle += 1\n",
    "    CRT_output.append(CRT_row)"
   ]
  },
  {
   "cell_type": "code",
   "execution_count": 30,
   "metadata": {},
   "outputs": [
    {
     "data": {
      "text/plain": [
       "['###..#..#.#....#..#...##..##..####..##..',\n",
       " '#..#.#..#.#....#..#....#.#..#....#.#..#.',\n",
       " '#..#.####.#....####....#.#......#..#..#.',\n",
       " '###..#..#.#....#..#....#.#.##..#...####.',\n",
       " '#....#..#.#....#..#.#..#.#..#.#....#..#.',\n",
       " '#....#..#.####.#..#..##...###.####.#..#.']"
      ]
     },
     "execution_count": 30,
     "metadata": {},
     "output_type": "execute_result"
    }
   ],
   "source": [
    "CRT_output"
   ]
  },
  {
   "cell_type": "code",
   "execution_count": 28,
   "metadata": {},
   "outputs": [
    {
     "data": {
      "text/plain": [
       "240"
      ]
     },
     "execution_count": 28,
     "metadata": {},
     "output_type": "execute_result"
    }
   ],
   "source": [
    "len(x_value_hist)"
   ]
  },
  {
   "cell_type": "code",
   "execution_count": null,
   "metadata": {},
   "outputs": [],
   "source": []
  }
 ],
 "metadata": {
  "kernelspec": {
   "display_name": "5gRadioSite",
   "language": "python",
   "name": "python3"
  },
  "language_info": {
   "codemirror_mode": {
    "name": "ipython",
    "version": 3
   },
   "file_extension": ".py",
   "mimetype": "text/x-python",
   "name": "python",
   "nbconvert_exporter": "python",
   "pygments_lexer": "ipython3",
   "version": "3.8.0"
  },
  "orig_nbformat": 4,
  "vscode": {
   "interpreter": {
    "hash": "c7c99722804840f96b01f13338a9f45175f9d2ea7f88566d49860c1f596f9120"
   }
  }
 },
 "nbformat": 4,
 "nbformat_minor": 2
}
