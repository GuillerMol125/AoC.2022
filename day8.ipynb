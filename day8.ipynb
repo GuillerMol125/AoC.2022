{
 "cells": [
  {
   "cell_type": "code",
   "execution_count": 1,
   "metadata": {},
   "outputs": [],
   "source": [
    "import os\n",
    "import sys\n",
    "import numpy as np\n",
    "from collections import defaultdict\n",
    "\n",
    "inputfilepath = 'C:\\EMOLGUI\\A_O_C\\Day8.txt'"
   ]
  },
  {
   "cell_type": "code",
   "execution_count": 2,
   "metadata": {},
   "outputs": [],
   "source": [
    "forest = []\n",
    "with open(inputfilepath,'r') as f:\n",
    "    for line in f:\n",
    "        forest.append(list(line.rstrip()))"
   ]
  },
  {
   "cell_type": "code",
   "execution_count": 4,
   "metadata": {},
   "outputs": [],
   "source": [
    "np_forest = np.array(forest)"
   ]
  },
  {
   "cell_type": "code",
   "execution_count": 6,
   "metadata": {},
   "outputs": [],
   "source": [
    "visible_trees = np.zeros(np_forest.shape)"
   ]
  },
  {
   "cell_type": "code",
   "execution_count": 10,
   "metadata": {},
   "outputs": [],
   "source": [
    "for row in range(np_forest.shape[0]):\n",
    "    for column in range(np_forest.shape[1]):\n",
    "        if row == 0 or column == 0 or row == np_forest.shape[0]-1 or column == np_forest.shape[1]-1:\n",
    "            visible_trees[row,column] = 1\n",
    "        else:\n",
    "            height = np_forest[row,column]\n",
    "            if height > min(max(np_forest[0:row,column]), max(np_forest[row,0:column]), max(np_forest[row+1:np_forest.shape[0],column]), max(np_forest[row,column+1:np_forest.shape[1]])):\n",
    "                visible_trees[row,column] = 1"
   ]
  },
  {
   "cell_type": "code",
   "execution_count": 12,
   "metadata": {},
   "outputs": [
    {
     "data": {
      "text/plain": [
       "(array([[1., 1., 1., ..., 1., 1., 1.],\n",
       "        [1., 1., 0., ..., 0., 1., 1.],\n",
       "        [1., 0., 1., ..., 0., 0., 1.],\n",
       "        ...,\n",
       "        [1., 1., 0., ..., 0., 0., 1.],\n",
       "        [1., 0., 1., ..., 1., 1., 1.],\n",
       "        [1., 1., 1., ..., 1., 1., 1.]]),\n",
       " array([['2', '0', '1', ..., '0', '1', '1'],\n",
       "        ['2', '2', '1', ..., '0', '2', '1'],\n",
       "        ['1', '0', '2', ..., '0', '1', '2'],\n",
       "        ...,\n",
       "        ['0', '2', '1', ..., '1', '1', '2'],\n",
       "        ['0', '0', '2', ..., '2', '2', '2'],\n",
       "        ['1', '0', '0', ..., '1', '1', '0']], dtype='<U1'))"
      ]
     },
     "execution_count": 12,
     "metadata": {},
     "output_type": "execute_result"
    }
   ],
   "source": [
    "visible_trees, np_forest"
   ]
  },
  {
   "cell_type": "code",
   "execution_count": 13,
   "metadata": {},
   "outputs": [
    {
     "data": {
      "text/plain": [
       "1782.0"
      ]
     },
     "execution_count": 13,
     "metadata": {},
     "output_type": "execute_result"
    }
   ],
   "source": [
    "np.sum(visible_trees)"
   ]
  },
  {
   "attachments": {},
   "cell_type": "markdown",
   "metadata": {},
   "source": [
    "#### QUESTION 2: Scenic score"
   ]
  },
  {
   "cell_type": "code",
   "execution_count": 36,
   "metadata": {},
   "outputs": [],
   "source": [
    "scenicScore = np.zeros(np_forest.shape)\n",
    "\n",
    "np_forest = np_forest.astype(int)\n",
    "\n",
    "for row in range(1,np_forest.shape[0]-1):\n",
    "    for column in range(1,np_forest.shape[1]-1):\n",
    "        height = int(np_forest[row,column])\n",
    "        up = np.flip(np_forest[0:row,column])\n",
    "        down = np_forest[row+1:np_forest.shape[0]:1,column]\n",
    "        left = np.flip(np_forest[row,0:column])\n",
    "        right = np_forest[row,column+1:np_forest.shape[1]]\n",
    "\n",
    "        if max(up) < height:\n",
    "            score_up = len(up)\n",
    "        else:\n",
    "            score_up = np.min(np.where((up - height)>=0)) + 1\n",
    "        if max(down) < height:\n",
    "            score_down = len(down)\n",
    "        else:\n",
    "            score_down = np.min(np.where((down - height)>=0)) + 1\n",
    "        if max(left) < height:\n",
    "            score_left = len(left)\n",
    "        else:\n",
    "            score_left = np.min(np.where((left - height)>=0)) + 1\n",
    "        if max(right) < height:\n",
    "            score_right = len(right)\n",
    "        else:\n",
    "            score_right = np.min(np.where((right - height)>=0)) + 1\n",
    "        \n",
    "        scenicScore[row,column] = score_up*score_down*score_left*score_right\n",
    "\n",
    "        # print(np_forest[:,column])\n",
    "        # print(up)\n",
    "        # print(down)\n",
    "\n",
    "        # print(np_forest[row,:])\n",
    "        # print(left)\n",
    "        # print(right)\n",
    "\n",
    "        #break\n",
    "    #break"
   ]
  },
  {
   "cell_type": "code",
   "execution_count": 45,
   "metadata": {},
   "outputs": [
    {
     "data": {
      "text/plain": [
       "474606.0"
      ]
     },
     "execution_count": 45,
     "metadata": {},
     "output_type": "execute_result"
    }
   ],
   "source": [
    "np.max(scenicScore)"
   ]
  },
  {
   "cell_type": "code",
   "execution_count": 46,
   "metadata": {},
   "outputs": [
    {
     "data": {
      "text/plain": [
       "(array([22], dtype=int64), array([47], dtype=int64))"
      ]
     },
     "execution_count": 46,
     "metadata": {},
     "output_type": "execute_result"
    }
   ],
   "source": [
    "np.where(scenicScore == np.max(scenicScore))"
   ]
  },
  {
   "cell_type": "code",
   "execution_count": 48,
   "metadata": {},
   "outputs": [
    {
     "data": {
      "text/plain": [
       "(474606.0,\n",
       " 8,\n",
       " array([4, 0, 0, 0, 1, 2, 2, 0, 1, 2, 3, 3, 3, 3, 5, 5, 4, 3, 4, 3, 6, 5,\n",
       "        5, 5, 2, 4, 3, 2, 6, 7, 7, 6, 6, 5, 3, 3, 6, 3, 5, 3, 4, 4, 6, 3,\n",
       "        6, 4, 4, 8, 7, 5, 5, 5, 4, 7, 7, 6, 7, 7, 6, 3, 5, 6, 4, 4, 6, 4,\n",
       "        3, 5, 3, 4, 6, 5, 4, 2, 4, 4, 6, 6, 2, 3, 3, 5, 3, 4, 5, 4, 1, 5,\n",
       "        3, 5, 1, 3, 4, 3, 3, 0, 2, 2, 3]),\n",
       " array([3, 4, 3, 2, 2, 4, 1, 2, 6, 2, 5, 4, 4, 6, 4, 3, 7, 6, 5, 4, 5, 3,\n",
       "        8, 7, 5, 4, 5, 5, 5, 5, 6, 8, 5, 5, 6, 5, 6, 8, 9, 6, 8, 9, 8, 7,\n",
       "        9, 9, 8, 9, 8, 8, 7, 8, 7, 9, 9, 9, 9, 9, 7, 6, 9, 6, 8, 7, 6, 9,\n",
       "        7, 9, 9, 8, 6, 9, 5, 7, 8, 7, 8, 5, 5, 5, 5, 4, 4, 5, 3, 3, 3, 2,\n",
       "        2, 4, 5, 6, 6, 5, 5, 5, 3, 4, 4]))"
      ]
     },
     "execution_count": 48,
     "metadata": {},
     "output_type": "execute_result"
    }
   ],
   "source": [
    "scenicScore[22,47],np_forest[22,47], np_forest[22,:], np_forest[:,47]"
   ]
  },
  {
   "cell_type": "code",
   "execution_count": 51,
   "metadata": {},
   "outputs": [
    {
     "data": {
      "text/plain": [
       "474606"
      ]
     },
     "execution_count": 51,
     "metadata": {},
     "output_type": "execute_result"
    }
   ],
   "source": [
    "47 * 51 * 22 * 9 "
   ]
  },
  {
   "cell_type": "code",
   "execution_count": null,
   "metadata": {},
   "outputs": [],
   "source": []
  }
 ],
 "metadata": {
  "kernelspec": {
   "display_name": "5gRadioSite",
   "language": "python",
   "name": "python3"
  },
  "language_info": {
   "codemirror_mode": {
    "name": "ipython",
    "version": 3
   },
   "file_extension": ".py",
   "mimetype": "text/x-python",
   "name": "python",
   "nbconvert_exporter": "python",
   "pygments_lexer": "ipython3",
   "version": "3.8.0"
  },
  "orig_nbformat": 4,
  "vscode": {
   "interpreter": {
    "hash": "c7c99722804840f96b01f13338a9f45175f9d2ea7f88566d49860c1f596f9120"
   }
  }
 },
 "nbformat": 4,
 "nbformat_minor": 2
}
