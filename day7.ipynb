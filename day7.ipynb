{
 "cells": [
  {
   "cell_type": "code",
   "execution_count": null,
   "metadata": {},
   "outputs": [],
   "source": [
    "import os\n",
    "import sys\n",
    "import numpy as np\n",
    "from collections import defaultdict\n",
    "\n",
    "inputfilepath = 'C:\\EMOLGUI\\A_O_C\\Day7.txt'"
   ]
  }
 ],
 "metadata": {
  "kernelspec": {
   "display_name": "5gRadioSite",
   "language": "python",
   "name": "python3"
  },
  "language_info": {
   "name": "python",
   "version": "3.8.0"
  },
  "orig_nbformat": 4,
  "vscode": {
   "interpreter": {
    "hash": "c7c99722804840f96b01f13338a9f45175f9d2ea7f88566d49860c1f596f9120"
   }
  }
 },
 "nbformat": 4,
 "nbformat_minor": 2
}
